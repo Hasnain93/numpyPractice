{
 "cells": [
  {
   "cell_type": "code",
   "execution_count": 4,
   "id": "11b9b295",
   "metadata": {},
   "outputs": [],
   "source": [
    "import numpy as np\n",
    "import random"
   ]
  },
  {
   "cell_type": "code",
   "execution_count": 5,
   "id": "b3c4f8be",
   "metadata": {},
   "outputs": [
    {
     "data": {
      "text/plain": [
       "array([0.30559801])"
      ]
     },
     "execution_count": 5,
     "metadata": {},
     "output_type": "execute_result"
    }
   ],
   "source": [
    "np.random.random(1)"
   ]
  },
  {
   "cell_type": "code",
   "execution_count": 6,
   "id": "bbafd55a",
   "metadata": {},
   "outputs": [
    {
     "data": {
      "text/plain": [
       "array([[0.62207545, 0.93058452, 0.82816348],\n",
       "       [0.36038571, 0.23367322, 0.95007752],\n",
       "       [0.73248932, 0.53986965, 0.61720571],\n",
       "       [0.97809364, 0.60409978, 0.42753363]])"
      ]
     },
     "execution_count": 6,
     "metadata": {},
     "output_type": "execute_result"
    }
   ],
   "source": [
    "np.random.random((4,3))"
   ]
  },
  {
   "cell_type": "code",
   "execution_count": 11,
   "id": "4fe5ae0a",
   "metadata": {},
   "outputs": [
    {
     "data": {
      "text/plain": [
       "array([[[1, 2],\n",
       "        [2, 2],\n",
       "        [1, 3],\n",
       "        [3, 1]],\n",
       "\n",
       "       [[3, 2],\n",
       "        [3, 1],\n",
       "        [3, 1],\n",
       "        [1, 1]]])"
      ]
     },
     "execution_count": 11,
     "metadata": {},
     "output_type": "execute_result"
    }
   ],
   "source": [
    "np.random.randint(1,4, (2,4,2))"
   ]
  },
  {
   "cell_type": "code",
   "execution_count": null,
   "id": "4e3f8191",
   "metadata": {},
   "outputs": [],
   "source": [
    "np.random.randint(1,4)"
   ]
  }
 ],
 "metadata": {
  "kernelspec": {
   "display_name": "Python 3 (ipykernel)",
   "language": "python",
   "name": "python3"
  },
  "language_info": {
   "codemirror_mode": {
    "name": "ipython",
    "version": 3
   },
   "file_extension": ".py",
   "mimetype": "text/x-python",
   "name": "python",
   "nbconvert_exporter": "python",
   "pygments_lexer": "ipython3",
   "version": "3.9.7"
  }
 },
 "nbformat": 4,
 "nbformat_minor": 5
}
